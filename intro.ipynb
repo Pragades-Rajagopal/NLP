{
 "metadata": {
  "language_info": {
   "codemirror_mode": {
    "name": "ipython",
    "version": 3
   },
   "file_extension": ".py",
   "mimetype": "text/x-python",
   "name": "python",
   "nbconvert_exporter": "python",
   "pygments_lexer": "ipython3",
   "version": "3.7.4-final"
  },
  "orig_nbformat": 2,
  "kernelspec": {
   "name": "python37432bitc7bfd4f7fe6b4a72ad34cf4e68e47bc5",
   "display_name": "Python 3.7.4 32-bit"
  }
 },
 "nbformat": 4,
 "nbformat_minor": 2,
 "cells": [
  {
   "cell_type": "code",
   "execution_count": 1,
   "metadata": {},
   "outputs": [],
   "source": [
    "from nltk.tokenize import sent_tokenize, word_tokenize\n",
    "from nltk.corpus import stopwords"
   ]
  },
  {
   "cell_type": "code",
   "execution_count": 2,
   "metadata": {
    "tags": []
   },
   "outputs": [
    {
     "output_type": "stream",
     "name": "stdout",
     "text": "['Hello', 'Mr.', 'Marquez', ',', 'how', 'are', 'you', 'doing', 'today', '?', 'The', 'weather', 'is', 'dull', 'and', 'coding', 'is', 'awesome', '.', 'The', 'sky', 'is', 'pinkish', 'blue', '.', 'Please', 'eat', 'raisins']\n"
    }
   ],
   "source": [
    "example_txt = \"Hello Mr. Marquez, how are you doing today? The weather is dull and coding is awesome. The sky is pinkish blue. Please eat raisins\"\n",
    "\n",
    "# print(sent_tokenize(example_txt))\n",
    "print(word_tokenize(example_txt))\n",
    "\n",
    "# for i in word_tokenize(example_txt):\n",
    "#     print(i)"
   ]
  },
  {
   "cell_type": "code",
   "execution_count": 3,
   "metadata": {
    "tags": []
   },
   "outputs": [
    {
     "output_type": "stream",
     "name": "stdout",
     "text": "{\"you're\", 'who', 'under', 'few', 'these', 'yours', 'from', 's', 'being', \"should've\", 'wasn', 'all', \"hasn't\", 'because', 'where', 'aren', 'until', 'not', 've', \"you'd\", 'some', 'own', 'other', 'itself', 'in', 'shouldn', 'her', 'will', 'by', 'my', \"mightn't\", 'that', \"wasn't\", \"that'll\", 'now', 'after', 'me', 'which', \"shan't\", 'here', 'doesn', 'through', \"hadn't\", 'he', 'am', 'such', 'when', \"wouldn't\", 'no', 'with', 'ours', 'o', 'once', 't', 'has', 'you', 'hasn', \"doesn't\", 'so', 'an', 'into', 'ourselves', 're', 'whom', 'up', 'needn', 'if', 'down', 'hers', 'same', 'there', \"couldn't\", 'couldn', 'this', 'over', 'is', 'i', 'what', 'shan', 'himself', 'only', \"needn't\", 'our', 'than', 'doing', 'ma', 'then', 'it', 'don', 'yourself', 'why', 'they', 'be', 'more', 'mustn', 'herself', 'below', 'about', 'them', 'further', 'him', 'between', 'to', 'a', 'and', 'been', \"won't\", 'or', 'wouldn', 'm', 'were', \"it's\", \"haven't\", 'too', 'having', 'on', 'very', 'off', \"didn't\", 'those', 'again', 'weren', 'while', 'any', 'we', 'against', 'are', 'how', \"you'll\", \"don't\", 'have', 'both', 'its', 'do', 'hadn', 'of', \"you've\", 'll', 'isn', 'theirs', 'haven', \"aren't\", 'as', 'mightn', 'just', 'did', 'your', 'above', 'myself', 'their', 'during', 'was', 'does', 'can', 'the', 'out', 'ain', \"she's\", 'most', 'at', 'but', 'for', 'didn', \"mustn't\", \"shouldn't\", 'y', 'nor', 'd', 'won', 'before', \"weren't\", 'yourselves', \"isn't\", 'she', 'each', 'themselves', 'his', 'should', 'had'}\n"
    }
   ],
   "source": [
    "stop_words = set(stopwords.words(\"english\"))\n",
    "print(stop_words)"
   ]
  },
  {
   "cell_type": "code",
   "execution_count": 4,
   "metadata": {
    "tags": []
   },
   "outputs": [
    {
     "output_type": "stream",
     "name": "stdout",
     "text": "['This', 'example', 'showing', 'stop', 'word', 'filtration']\n"
    }
   ],
   "source": [
    "example = \"This is an example showing off stop word filtration\"\n",
    "\n",
    "word = word_tokenize(example)\n",
    "\n",
    "filteration = []\n",
    "for i in word:\n",
    "    if i not in stop_words:\n",
    "        filteration.append(i)\n",
    "\n",
    "print(filteration)"
   ]
  },
  {
   "cell_type": "code",
   "execution_count": 5,
   "metadata": {
    "tags": []
   },
   "outputs": [
    {
     "output_type": "stream",
     "name": "stdout",
     "text": "['This', 'example', 'showing', 'stop', 'word', 'filtration']\n"
    }
   ],
   "source": [
    "filteration1 = [w for w in word if w not in stop_words]\n",
    "print(filteration1)"
   ]
  },
  {
   "cell_type": "code",
   "execution_count": 7,
   "metadata": {},
   "outputs": [],
   "source": [
    "# Stemming\n",
    "\n",
    "from nltk.stem import PorterStemmer\n",
    "ps = PorterStemmer()"
   ]
  },
  {
   "cell_type": "code",
   "execution_count": 9,
   "metadata": {
    "tags": []
   },
   "outputs": [
    {
     "output_type": "stream",
     "name": "stdout",
     "text": "python\npython\npython\npythonli\npython\n"
    }
   ],
   "source": [
    "ps_words = [\"Python\",\"Pythoner\",\"Pythoned\",\"Pythonly\",\"Pythoning\"]\n",
    "for i in ps_words:\n",
    "    print(ps.stem(i))"
   ]
  },
  {
   "cell_type": "code",
   "execution_count": 10,
   "metadata": {
    "tags": []
   },
   "outputs": [
    {
     "output_type": "stream",
     "name": "stdout",
     "text": "It\nis\nveri\nimport\nto\nbe\npythonli\nwhile\nyou\n're\npython\nwith\npython\n.\nall\npython\nhave\npython\npoorli\nat\nleast\nonc\n.\n"
    }
   ],
   "source": [
    "ps_new_txt = \"It is very important to be pythonly while you're pythoning with python. All pythoners have pythoned poorly at least once.\"\n",
    "ps_words_ = word_tokenize(ps_new_txt)\n",
    "for i in ps_words_:\n",
    "    print(ps.stem(i))"
   ]
  }
 ]
}